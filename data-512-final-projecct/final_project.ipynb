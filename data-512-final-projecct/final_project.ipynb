{
 "cells": [
  {
   "cell_type": "markdown",
   "metadata": {},
   "source": [
    "# <center> A6 : Social Security Benefits Analysis </center>"
   ]
  },
  {
   "cell_type": "markdown",
   "metadata": {},
   "source": [
    "<center> Lohith B R\n",
    "<br>\n",
    "DATA 512 Final Project\n",
    "<br>\n",
    "University of Washington, Fall 2018 </center>"
   ]
  },
  {
   "cell_type": "markdown",
   "metadata": {},
   "source": [
    "## Introduction "
   ]
  },
  {
   "cell_type": "markdown",
   "metadata": {},
   "source": [
    "Social Security has become very important these days epecially in a developed country like the United States. Income derived from Social Security is currently estimated to have reduced the poverty rate for Americans age 65 or older from about 40% to below 10%.<sup>[1](https://www.cbpp.org/research/social-security/social-security-keeps-22-million-americans-out-of-poverty-a-state-by-state)</sup>. In 2018, the trustees of the Social Security Trust Fund reported that the program will become financially insolvent in the year 2034.<sup>[2](https://www.ssa.gov/oact/tr/2018/tr2018.pdf)</sup>. Thus it is very important that we analyze where the money is going and see if there are better ways to solve some of the problems instead of directly paying the beneficiaries. For e.g. it may be a good idea to invest more upgrading or reforming the health care system to reduce the cost of health care per person. It is also important to identify and prevent Social Security Fraud. This analysis can, in theory, help decision makers make informed decisions.\n",
    "\n",
    "The annual publication of OASDI(Old-Age, Survivors & Disability Insurance) benefits from the Social Security Administration (SSA) presents the basic program data on the number and type of beneficiaries and the amount of benefits paid each state at the ZIP code level. This dataset also shows the number of men and women aged 65 or older receiving benefits. This dataset contains only those persons to whom the benefits are payable. Those whose benefits were withheld are excluded. \n",
    "\n",
    "This dataset will be used in this analysis to answer some of the research questions and also, if possible, uncover some interesting patterns/insights."
   ]
  },
  {
   "cell_type": "markdown",
   "metadata": {},
   "source": [
    "## Reproducibility"
   ]
  },
  {
   "cell_type": "markdown",
   "metadata": {},
   "source": [
    "This Analysis is completelty reproducible if you have the dataset, the code and the tools and libraries used in this analysis. The piece of code you see in this notebook will take care of all the data processing and producing the necessary output CSV files. However, for better visualization I have used Tableau instead of matplotlib or seaborn library. Please find the links in the references to see how to use Tableau to visualize the data the way I did it. "
   ]
  },
  {
   "cell_type": "markdown",
   "metadata": {},
   "source": [
    "## Tools and libraries needed to reproduce the results\n",
    "\n",
    "* Tableau Public Desktop Version : 2018.2.3 64-bit <sup>[1]</sup>\n",
    "* Python Version : Python 3.6.5 |Anaconda, Inc.| <sup>[7]</sup>\n",
    "* Python Numpy version : 1.12.1 <sup>[3]</sup>\n",
    "* Pandas Version : 0.23.1 <sup>[4]</sup>"
   ]
  },
  {
   "cell_type": "markdown",
   "metadata": {},
   "source": [
    "# Code"
   ]
  },
  {
   "cell_type": "markdown",
   "metadata": {},
   "source": [
    "### Import the necessary libraries"
   ]
  },
  {
   "cell_type": "code",
   "execution_count": 1,
   "metadata": {},
   "outputs": [],
   "source": [
    "import pandas as pd\n",
    "import numpy as np\n",
    "\n",
    "# Suppress the warning messages generated as they are not relvant for this analysis\n",
    "import warnings\n",
    "warnings.filterwarnings(\"ignore\")"
   ]
  },
  {
   "cell_type": "code",
   "execution_count": 2,
   "metadata": {},
   "outputs": [],
   "source": [
    "# Read the spread sheet into a pandas datastructure\n",
    "data = pd.ExcelFile(\"oasdi_zip16.xlsx\")"
   ]
  },
  {
   "cell_type": "code",
   "execution_count": 3,
   "metadata": {},
   "outputs": [],
   "source": [
    "# List all the headers that are present in the dataset\n",
    "headers = ['contact_info', 'zip_code', 'nan', 'total', 'retired', 'disabled',\n",
    "          'widowers_parents', 'spouses', 'children', 'amount_all_beneficiaries', 'amount_retired',\n",
    "          'amount_widowers', 'old_beneficiaries']"
   ]
  },
  {
   "cell_type": "code",
   "execution_count": 4,
   "metadata": {},
   "outputs": [],
   "source": [
    "# Function to parse the sheets in the Excel file and create a single Pandas Dataframe object\n",
    "\n",
    "def state_df_parse(input_df):\n",
    "    \"\"\" input : Pandas ExcelFile\n",
    "        output : Pandas Dataframe with all the headers mentioned above and \n",
    "                as extra column containing the name of the state\n",
    "    \"\"\"\n",
    "    all_df = pd.DataFrame()\n",
    "    \n",
    "    for state in input_df.sheet_names:\n",
    "        state_df = input_df.parse(state, names = headers)\n",
    "        \n",
    "        state_df.drop(['contact_info', 'nan'], inplace=True, axis=1) # contact_info field is not required here\n",
    "        state_df.dropna(subset=['zip_code'], inplace=True) \n",
    "        state_df['state'] = state\n",
    "        all_df = pd.concat([all_df, state_df], axis=0)  # concatenate the dataframe vertically\n",
    "        \n",
    "    return all_df"
   ]
  },
  {
   "cell_type": "code",
   "execution_count": 5,
   "metadata": {},
   "outputs": [],
   "source": [
    "# Parse the ExcelFile format and generate a single pandas Dataframe\n",
    "all_states = state_df_parse(data)"
   ]
  },
  {
   "cell_type": "code",
   "execution_count": 6,
   "metadata": {},
   "outputs": [
    {
     "data": {
      "text/html": [
       "<div>\n",
       "<style scoped>\n",
       "    .dataframe tbody tr th:only-of-type {\n",
       "        vertical-align: middle;\n",
       "    }\n",
       "\n",
       "    .dataframe tbody tr th {\n",
       "        vertical-align: top;\n",
       "    }\n",
       "\n",
       "    .dataframe thead th {\n",
       "        text-align: right;\n",
       "    }\n",
       "</style>\n",
       "<table border=\"1\" class=\"dataframe\">\n",
       "  <thead>\n",
       "    <tr style=\"text-align: right;\">\n",
       "      <th></th>\n",
       "      <th>zip_code</th>\n",
       "      <th>total</th>\n",
       "      <th>retired</th>\n",
       "      <th>disabled</th>\n",
       "      <th>widowers_parents</th>\n",
       "      <th>spouses</th>\n",
       "      <th>children</th>\n",
       "      <th>amount_all_beneficiaries</th>\n",
       "      <th>amount_retired</th>\n",
       "      <th>amount_widowers</th>\n",
       "      <th>old_beneficiaries</th>\n",
       "      <th>state</th>\n",
       "    </tr>\n",
       "  </thead>\n",
       "  <tbody>\n",
       "    <tr>\n",
       "      <th>6</th>\n",
       "      <td>35013</td>\n",
       "      <td>35</td>\n",
       "      <td>15</td>\n",
       "      <td>5</td>\n",
       "      <td>5</td>\n",
       "      <td>5</td>\n",
       "      <td>5</td>\n",
       "      <td>33</td>\n",
       "      <td>20</td>\n",
       "      <td>5</td>\n",
       "      <td>20</td>\n",
       "      <td>Alabama</td>\n",
       "    </tr>\n",
       "    <tr>\n",
       "      <th>7</th>\n",
       "      <td>35016</td>\n",
       "      <td>4400</td>\n",
       "      <td>2745</td>\n",
       "      <td>840</td>\n",
       "      <td>325</td>\n",
       "      <td>145</td>\n",
       "      <td>345</td>\n",
       "      <td>5087</td>\n",
       "      <td>3468</td>\n",
       "      <td>370</td>\n",
       "      <td>2945</td>\n",
       "      <td>Alabama</td>\n",
       "    </tr>\n",
       "    <tr>\n",
       "      <th>8</th>\n",
       "      <td>35031</td>\n",
       "      <td>2040</td>\n",
       "      <td>1180</td>\n",
       "      <td>425</td>\n",
       "      <td>150</td>\n",
       "      <td>85</td>\n",
       "      <td>200</td>\n",
       "      <td>2273</td>\n",
       "      <td>1473</td>\n",
       "      <td>168</td>\n",
       "      <td>1290</td>\n",
       "      <td>Alabama</td>\n",
       "    </tr>\n",
       "    <tr>\n",
       "      <th>9</th>\n",
       "      <td>35049</td>\n",
       "      <td>910</td>\n",
       "      <td>570</td>\n",
       "      <td>165</td>\n",
       "      <td>60</td>\n",
       "      <td>40</td>\n",
       "      <td>75</td>\n",
       "      <td>1089</td>\n",
       "      <td>752</td>\n",
       "      <td>71</td>\n",
       "      <td>610</td>\n",
       "      <td>Alabama</td>\n",
       "    </tr>\n",
       "    <tr>\n",
       "      <th>10</th>\n",
       "      <td>35079</td>\n",
       "      <td>2045</td>\n",
       "      <td>1160</td>\n",
       "      <td>455</td>\n",
       "      <td>170</td>\n",
       "      <td>70</td>\n",
       "      <td>190</td>\n",
       "      <td>2557</td>\n",
       "      <td>1614</td>\n",
       "      <td>206</td>\n",
       "      <td>1265</td>\n",
       "      <td>Alabama</td>\n",
       "    </tr>\n",
       "  </tbody>\n",
       "</table>\n",
       "</div>"
      ],
      "text/plain": [
       "   zip_code total retired disabled widowers_parents spouses children  \\\n",
       "6     35013    35      15        5                5       5        5   \n",
       "7     35016  4400    2745      840              325     145      345   \n",
       "8     35031  2040    1180      425              150      85      200   \n",
       "9     35049   910     570      165               60      40       75   \n",
       "10    35079  2045    1160      455              170      70      190   \n",
       "\n",
       "   amount_all_beneficiaries amount_retired amount_widowers old_beneficiaries  \\\n",
       "6                        33             20               5                20   \n",
       "7                      5087           3468             370              2945   \n",
       "8                      2273           1473             168              1290   \n",
       "9                      1089            752              71               610   \n",
       "10                     2557           1614             206              1265   \n",
       "\n",
       "      state  \n",
       "6   Alabama  \n",
       "7   Alabama  \n",
       "8   Alabama  \n",
       "9   Alabama  \n",
       "10  Alabama  "
      ]
     },
     "execution_count": 6,
     "metadata": {},
     "output_type": "execute_result"
    }
   ],
   "source": [
    "# Inspect the dataframe\n",
    "all_states.head()"
   ]
  },
  {
   "cell_type": "markdown",
   "metadata": {},
   "source": [
    "## Metadata for the dataset\n",
    "\n",
    "|  Attribute | Value  |\n",
    "|---|---|\n",
    "|  Last Updated | December 2, 2017  |\n",
    "|  Created |  December 2, 2017 |\n",
    "|  File Format | MS Excel  |\n",
    "|  License | [Creative Commons CCZero](https://creativecommons.org/publicdomain/zero/1.0/legalcode)  |\n",
    "| Number of sheets  | 56  |\n",
    "|  ID | 2d66781f-0590-4cee-95ea-d8ab01e08e03  |\n",
    "| Revision ID | c745f739-adee-4936-b575-9cc44548e45a |\n",
    "| Raw File Size | 3.4 MB|\n",
    "\n",
    "* Every sheet either corresponds to a State or a territory in the US\n",
    "* Every sheet has the following data format\n",
    "\n",
    "\n",
    "\n",
    "\n",
    "|  Headers  |Data Type / Description   |\n",
    "|---|---|\n",
    "| Field Office and Zip Code  | Text(either field office name or ZIP code)  |\n",
    "| Total  | Text(denoting a comma seperated number)  |\n",
    "| Retired workers  |  Text(denoting a comma seperated number) |\n",
    "| Disabled Workers  | Text(denoting a comma seperated number)  |\n",
    "| Widow(er)s and parents  | Text(denoting a comma seperated number)  |\n",
    "| Spouses | Text(denoting a comma seperated number)  |\n",
    "| Children  | Text(denoting a comma seperated number)  |\n",
    "| All Beneficiaries  | Text(denoting a comma separated number in terms of thousands of dollars)  |\n",
    "| Retired Workers  |  Text(denoting a comma separated number in terms of thousands of dollars) |\n",
    "| Widow(er)s and parents  | Text(denoting a comma separated number in terms of thousands of dollars)  |\n",
    "| Number of OASDI beneficiaries aged 65 or older | Text(denoting a comma seperated number)  |"
   ]
  },
  {
   "cell_type": "code",
   "execution_count": 7,
   "metadata": {},
   "outputs": [],
   "source": [
    "# Calculate amount per beneficiary at the zip code level\n",
    "all_states['amount_per_beneficiary'] = all_states['amount_all_beneficiaries'] / all_states['total']"
   ]
  },
  {
   "cell_type": "markdown",
   "metadata": {},
   "source": [
    "### Research Question 1\n",
    "* What Zip codes have some of the lowest/highest amount received per month and how does that compare with the annual average house hold income in that zip code?"
   ]
  },
  {
   "cell_type": "code",
   "execution_count": 8,
   "metadata": {},
   "outputs": [
    {
     "data": {
      "text/html": [
       "<div>\n",
       "<style scoped>\n",
       "    .dataframe tbody tr th:only-of-type {\n",
       "        vertical-align: middle;\n",
       "    }\n",
       "\n",
       "    .dataframe tbody tr th {\n",
       "        vertical-align: top;\n",
       "    }\n",
       "\n",
       "    .dataframe thead th {\n",
       "        text-align: right;\n",
       "    }\n",
       "</style>\n",
       "<table border=\"1\" class=\"dataframe\">\n",
       "  <thead>\n",
       "    <tr style=\"text-align: right;\">\n",
       "      <th></th>\n",
       "      <th>zip_code</th>\n",
       "      <th>amount_per_beneficiary</th>\n",
       "    </tr>\n",
       "  </thead>\n",
       "  <tbody>\n",
       "    <tr>\n",
       "      <th>833</th>\n",
       "      <td>10020</td>\n",
       "      <td>2.26667</td>\n",
       "    </tr>\n",
       "    <tr>\n",
       "      <th>1116</th>\n",
       "      <td>77010</td>\n",
       "      <td>2.15556</td>\n",
       "    </tr>\n",
       "    <tr>\n",
       "      <th>1410</th>\n",
       "      <td>12604</td>\n",
       "      <td>2.13333</td>\n",
       "    </tr>\n",
       "    <tr>\n",
       "      <th>1141</th>\n",
       "      <td>94305</td>\n",
       "      <td>2.08929</td>\n",
       "    </tr>\n",
       "    <tr>\n",
       "      <th>340</th>\n",
       "      <td>57186</td>\n",
       "      <td>2.05</td>\n",
       "    </tr>\n",
       "    <tr>\n",
       "      <th>140</th>\n",
       "      <td>55323</td>\n",
       "      <td>2</td>\n",
       "    </tr>\n",
       "    <tr>\n",
       "      <th>845</th>\n",
       "      <td>10107</td>\n",
       "      <td>2</td>\n",
       "    </tr>\n",
       "    <tr>\n",
       "      <th>725</th>\n",
       "      <td>37383</td>\n",
       "      <td>1.97143</td>\n",
       "    </tr>\n",
       "    <tr>\n",
       "      <th>150</th>\n",
       "      <td>7846</td>\n",
       "      <td>1.95</td>\n",
       "    </tr>\n",
       "    <tr>\n",
       "      <th>519</th>\n",
       "      <td>24595</td>\n",
       "      <td>1.92</td>\n",
       "    </tr>\n",
       "  </tbody>\n",
       "</table>\n",
       "</div>"
      ],
      "text/plain": [
       "     zip_code amount_per_beneficiary\n",
       "833     10020                2.26667\n",
       "1116    77010                2.15556\n",
       "1410    12604                2.13333\n",
       "1141    94305                2.08929\n",
       "340     57186                   2.05\n",
       "140     55323                      2\n",
       "845     10107                      2\n",
       "725     37383                1.97143\n",
       "150      7846                   1.95\n",
       "519     24595                   1.92"
      ]
     },
     "execution_count": 8,
     "metadata": {},
     "output_type": "execute_result"
    }
   ],
   "source": [
    "# Sort the dataframe in the descending order of the amount per beneficiary\n",
    "all_states.sort_values('amount_per_beneficiary', ascending=False)[['zip_code', 'amount_per_beneficiary']].head(10)"
   ]
  },
  {
   "cell_type": "markdown",
   "metadata": {},
   "source": [
    "### comments\n",
    "* Let's take a look at the zip code 77010 in Texas where on an average the beneficiaries get nearly 2,155 dollars per month\n",
    "* The average household income in this zip code is nearly 250,001 dollars <sup>[6]</sup>\n",
    "* Though there are exceptions, it's not hard to see that zip codes that have very high household incomes also tend to collect more benefits from the SSA"
   ]
  },
  {
   "cell_type": "code",
   "execution_count": 9,
   "metadata": {},
   "outputs": [
    {
     "data": {
      "text/html": [
       "<div>\n",
       "<style scoped>\n",
       "    .dataframe tbody tr th:only-of-type {\n",
       "        vertical-align: middle;\n",
       "    }\n",
       "\n",
       "    .dataframe tbody tr th {\n",
       "        vertical-align: top;\n",
       "    }\n",
       "\n",
       "    .dataframe thead th {\n",
       "        text-align: right;\n",
       "    }\n",
       "</style>\n",
       "<table border=\"1\" class=\"dataframe\">\n",
       "  <thead>\n",
       "    <tr style=\"text-align: right;\">\n",
       "      <th></th>\n",
       "      <th>zip_code</th>\n",
       "      <th>amount_per_beneficiary</th>\n",
       "    </tr>\n",
       "  </thead>\n",
       "  <tbody>\n",
       "    <tr>\n",
       "      <th>565</th>\n",
       "      <td>19806</td>\n",
       "      <td>0.24</td>\n",
       "    </tr>\n",
       "    <tr>\n",
       "      <th>6</th>\n",
       "      <td>80231</td>\n",
       "      <td>0.3</td>\n",
       "    </tr>\n",
       "    <tr>\n",
       "      <th>16</th>\n",
       "      <td>86044</td>\n",
       "      <td>0.333333</td>\n",
       "    </tr>\n",
       "    <tr>\n",
       "      <th>1468</th>\n",
       "      <td>54481</td>\n",
       "      <td>0.333333</td>\n",
       "    </tr>\n",
       "    <tr>\n",
       "      <th>115</th>\n",
       "      <td>1844</td>\n",
       "      <td>0.371429</td>\n",
       "    </tr>\n",
       "    <tr>\n",
       "      <th>241</th>\n",
       "      <td>2864</td>\n",
       "      <td>0.4</td>\n",
       "    </tr>\n",
       "    <tr>\n",
       "      <th>1690</th>\n",
       "      <td>47876</td>\n",
       "      <td>0.4</td>\n",
       "    </tr>\n",
       "    <tr>\n",
       "      <th>1379</th>\n",
       "      <td>47876</td>\n",
       "      <td>0.4</td>\n",
       "    </tr>\n",
       "    <tr>\n",
       "      <th>691</th>\n",
       "      <td>75504</td>\n",
       "      <td>0.4</td>\n",
       "    </tr>\n",
       "    <tr>\n",
       "      <th>132</th>\n",
       "      <td>5671</td>\n",
       "      <td>0.416</td>\n",
       "    </tr>\n",
       "  </tbody>\n",
       "</table>\n",
       "</div>"
      ],
      "text/plain": [
       "     zip_code amount_per_beneficiary\n",
       "565     19806                   0.24\n",
       "6       80231                    0.3\n",
       "16      86044               0.333333\n",
       "1468    54481               0.333333\n",
       "115      1844               0.371429\n",
       "241      2864                    0.4\n",
       "1690    47876                    0.4\n",
       "1379    47876                    0.4\n",
       "691     75504                    0.4\n",
       "132      5671                  0.416"
      ]
     },
     "execution_count": 9,
     "metadata": {},
     "output_type": "execute_result"
    }
   ],
   "source": [
    "# Sort the dataframe in the ascending order of the amount per beneficiary\n",
    "all_states.sort_values('amount_per_beneficiary', ascending=True)[['zip_code', 'amount_per_beneficiary']].head(10)"
   ]
  },
  {
   "cell_type": "markdown",
   "metadata": {},
   "source": [
    "### comments\n",
    "* Let's take a look at the zip code 80231 in Colorado where on an average the beneficiaries get nearly 300 dollars per month\n",
    "* The average household income in this zip code is nearly 51,099 dollars <sup>[6]</sup>\n",
    "* Again, though there are exceptions, it's not hard to see that zip codes that have very low household incomes also tend to collect less benefits from the SSA"
   ]
  },
  {
   "cell_type": "markdown",
   "metadata": {},
   "source": [
    "### Research Question 2\n",
    "* What states have some of the lowest/highest amount received per month and is there an apparent trend in the data?"
   ]
  },
  {
   "cell_type": "code",
   "execution_count": 10,
   "metadata": {},
   "outputs": [],
   "source": [
    "# Identify all the numerical features in the dataframe\n",
    "num_features = ['total', 'retired', 'disabled', 'widowers_parents', 'spouses', \n",
    "    'children', 'amount_all_beneficiaries', 'amount_retired', 'amount_widowers', \n",
    "    'old_beneficiaries', 'amount_per_beneficiary' ]"
   ]
  },
  {
   "cell_type": "code",
   "execution_count": 11,
   "metadata": {},
   "outputs": [],
   "source": [
    "# Convert all object types to floating point numbers\n",
    "for feature in num_features:\n",
    "    all_states[feature] = all_states[feature].astype(float)"
   ]
  },
  {
   "cell_type": "code",
   "execution_count": 12,
   "metadata": {},
   "outputs": [],
   "source": [
    "# Aggregate the data at the state level by computing the mean amount per beneficiary in each state\n",
    "state_details = all_states.groupby('state').agg({'amount_per_beneficiary' : np.mean})"
   ]
  },
  {
   "cell_type": "code",
   "execution_count": 13,
   "metadata": {},
   "outputs": [
    {
     "data": {
      "text/html": [
       "<div>\n",
       "<style scoped>\n",
       "    .dataframe tbody tr th:only-of-type {\n",
       "        vertical-align: middle;\n",
       "    }\n",
       "\n",
       "    .dataframe tbody tr th {\n",
       "        vertical-align: top;\n",
       "    }\n",
       "\n",
       "    .dataframe thead th {\n",
       "        text-align: right;\n",
       "    }\n",
       "</style>\n",
       "<table border=\"1\" class=\"dataframe\">\n",
       "  <thead>\n",
       "    <tr style=\"text-align: right;\">\n",
       "      <th></th>\n",
       "      <th>amount_per_beneficiary</th>\n",
       "    </tr>\n",
       "    <tr>\n",
       "      <th>state</th>\n",
       "      <th></th>\n",
       "    </tr>\n",
       "  </thead>\n",
       "  <tbody>\n",
       "    <tr>\n",
       "      <th>Alabama</th>\n",
       "      <td>1.164613</td>\n",
       "    </tr>\n",
       "    <tr>\n",
       "      <th>Alaska</th>\n",
       "      <td>1.045300</td>\n",
       "    </tr>\n",
       "    <tr>\n",
       "      <th>American Samoa</th>\n",
       "      <td>0.702348</td>\n",
       "    </tr>\n",
       "    <tr>\n",
       "      <th>Arizona</th>\n",
       "      <td>1.206986</td>\n",
       "    </tr>\n",
       "    <tr>\n",
       "      <th>Arkansas</th>\n",
       "      <td>1.113012</td>\n",
       "    </tr>\n",
       "  </tbody>\n",
       "</table>\n",
       "</div>"
      ],
      "text/plain": [
       "                amount_per_beneficiary\n",
       "state                                 \n",
       "Alabama                       1.164613\n",
       "Alaska                        1.045300\n",
       "American Samoa                0.702348\n",
       "Arizona                       1.206986\n",
       "Arkansas                      1.113012"
      ]
     },
     "execution_count": 13,
     "metadata": {},
     "output_type": "execute_result"
    }
   ],
   "source": [
    "state_details.head()"
   ]
  },
  {
   "cell_type": "code",
   "execution_count": 14,
   "metadata": {},
   "outputs": [],
   "source": [
    "# Persist the data in CSV format so that it's easy visualize using Tableau\n",
    "state_details.to_csv('state_details.csv')"
   ]
  },
  {
   "cell_type": "markdown",
   "metadata": {},
   "source": [
    "### Tableau instructions\n",
    "* Load the csv file state_details.csv as a text file into Tableau\n",
    "* Drag the state Dimension onto the worksheet\n",
    "* Drag the amount per beneficiary Measure onto the color mark on the central pane\n",
    "* These steps above will generate the visualization as seen below\n",
    "* Similar visualizations can be creted using other visualization tools as well"
   ]
  },
  {
   "cell_type": "markdown",
   "metadata": {},
   "source": [
    "![](states.png)"
   ]
  },
  {
   "cell_type": "markdown",
   "metadata": {},
   "source": [
    "### Comments\n",
    "* Even though there is a wide range of possible values of average benefits per state and even some states standout, it's hard to find correlations with any other idicators like income level or poverty.\n",
    "* It can be concluded that SS benefits have to be looked at a more granular level than at a State level"
   ]
  },
  {
   "cell_type": "markdown",
   "metadata": {},
   "source": [
    "## Research Question 3\n",
    "* Are there parts of the cities/towns where top and botton beneficiaries live close to each other?\n",
    "* Since it's unweildy to look at every town/city in the country, we will focus on New York city for this analysis.\n",
    "* In particular we will look at Bronx and Manhattan boroughs in NYC"
   ]
  },
  {
   "cell_type": "code",
   "execution_count": 15,
   "metadata": {},
   "outputs": [],
   "source": [
    "# Drop the na values in the dataframe\n",
    "all_states.dropna(inplace=True)"
   ]
  },
  {
   "cell_type": "code",
   "execution_count": 16,
   "metadata": {},
   "outputs": [
    {
     "data": {
      "text/plain": [
       "(0.96842105263157896, 1.4904212040271207)"
      ]
     },
     "execution_count": 16,
     "metadata": {},
     "output_type": "execute_result"
    }
   ],
   "source": [
    "# compute the 95th and 5th percentile for amount per beneficiary in the dataset\n",
    "\n",
    "per_top = np.percentile(all_states['amount_per_beneficiary'], 95,)\n",
    "per_bot = np.percentile(all_states['amount_per_beneficiary'], 5)\n",
    "\n",
    "per_bot, per_top"
   ]
  },
  {
   "cell_type": "code",
   "execution_count": 17,
   "metadata": {},
   "outputs": [],
   "source": [
    "# create a dataframe with top and bottom 5% in terms of the amount per beneficiary\n",
    "\n",
    "top_zip_codes = all_states[all_states['amount_per_beneficiary'] > per_top]\n",
    "bot_zip_codes = all_states[all_states['amount_per_beneficiary'] < per_bot]"
   ]
  },
  {
   "cell_type": "code",
   "execution_count": 18,
   "metadata": {},
   "outputs": [],
   "source": [
    "# Create appropriate labels for each of the dataframes\n",
    "\n",
    "top_zip_codes['status'] = 'TOP 5%'\n",
    "bot_zip_codes['status'] = 'BOT 5%'\n",
    "\n",
    "# concatenate the dataframes vertically\n",
    "extremes = pd.concat([top_zip_codes, bot_zip_codes], axis=0)"
   ]
  },
  {
   "cell_type": "code",
   "execution_count": 19,
   "metadata": {},
   "outputs": [],
   "source": [
    "# Persist the dataframe in CSV format to enable visualization using Tableau\n",
    "extremes.to_csv('extremes_5.csv')"
   ]
  },
  {
   "cell_type": "markdown",
   "metadata": {},
   "source": [
    "### Tableau instructions\n",
    "* Load the csv file extremes_5.csv as a text file into Tableau\n",
    "* Drag the state zip code onto the worksheet\n",
    "* Drag the status Dimension onto the color mark on the central pane\n",
    "* These steps above will generate the visualization as seen below\n",
    "* Similar visualizations can be creted using other visualization tools as well"
   ]
  },
  {
   "cell_type": "markdown",
   "metadata": {},
   "source": [
    "![](nyc.png)"
   ]
  },
  {
   "cell_type": "markdown",
   "metadata": {},
   "source": [
    "# Conclusions\n",
    "* A lot of rich people, who probably don't need SS benefits are availing them\n",
    "* Eligibility criteria for SS benefits should change to take into account not just taxable income but the total value of assets at the time the claims are made\n"
   ]
  },
  {
   "cell_type": "markdown",
   "metadata": {},
   "source": [
    "# Future work\n",
    "* Combine this dataset with Income/wealth data and do further analysis\n",
    "* Combine this dataset with zip code wise racial and gender distribution of data and find patterns if any\n",
    "* Is it possible to find cases of widespread fraud using these datasets?\n"
   ]
  },
  {
   "cell_type": "markdown",
   "metadata": {},
   "source": [
    "# References"
   ]
  },
  {
   "cell_type": "markdown",
   "metadata": {},
   "source": [
    "[1] https://public.tableau.com/en-us/s/\n",
    "<br>\n",
    "[2] https://catalog.data.gov/dataset/oasdi-beneficiaries-by-state-and-zip-code-2016\n",
    "<br>\n",
    "[3] https://docs.scipy.org/doc/\n",
    "<br>\n",
    "[4] https://pandas.pydata.org/pandas-docs/stable/\n",
    "<br>\n",
    "[5] https://creativecommons.org/publicdomain/zero/1.0/legalcode\n",
    "<br>\n",
    "[6] https://www.incomebyzipcode.com/\n",
    "<br>\n",
    "[7] https://www.anaconda.com/download/#macos\n",
    "<br>\n",
    "[8] https://www.tableau.com/learn/training"
   ]
  },
  {
   "cell_type": "code",
   "execution_count": null,
   "metadata": {},
   "outputs": [],
   "source": []
  }
 ],
 "metadata": {
  "kernelspec": {
   "display_name": "Python 3",
   "language": "python",
   "name": "python3"
  },
  "language_info": {
   "codemirror_mode": {
    "name": "ipython",
    "version": 3
   },
   "file_extension": ".py",
   "mimetype": "text/x-python",
   "name": "python",
   "nbconvert_exporter": "python",
   "pygments_lexer": "ipython3",
   "version": "3.6.5"
  }
 },
 "nbformat": 4,
 "nbformat_minor": 2
}
